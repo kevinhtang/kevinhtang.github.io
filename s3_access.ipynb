{
 "cells": [
  {
   "cell_type": "code",
   "execution_count": 1,
   "metadata": {},
   "outputs": [],
   "source": [
    "import boto3\n",
    "import pandas as pd \n",
    "import csv"
   ]
  },
  {
   "cell_type": "code",
   "execution_count": 2,
   "metadata": {},
   "outputs": [],
   "source": [
    "# Importing the necessary modules\n",
    "from client_helper import get_botocore_client\n",
    "from s3_util import S3Client"
   ]
  },
  {
   "cell_type": "code",
   "execution_count": 19,
   "metadata": {},
   "outputs": [],
   "source": [
    "# Instantiating the botocore client\n",
    "# You can replace 's3', 'my_profile', 'my_access_key', 'my_secret_key' with your own values\n",
    "s3_client = get_botocore_client('s3', 'dispo', None, None)"
   ]
  },
  {
   "cell_type": "code",
   "execution_count": 21,
   "metadata": {},
   "outputs": [],
   "source": [
    "# Instantiating S3Client with the returned s3 client and the name of your bucket\n",
    "my_bucket = 'davidak'\n",
    "s3 = S3Client(s3_client, my_bucket)"
   ]
  },
  {
   "cell_type": "code",
   "execution_count": 24,
   "metadata": {},
   "outputs": [
    {
     "name": "stdout",
     "output_type": "stream",
     "text": [
      "True\n"
     ]
    }
   ],
   "source": [
    "# You now have an S3Client instance. You can use the methods defined in S3Client to interact with S3:\n",
    "s3_key = 'ED_Dispo/Shared_data/rads_within_visit_2023_07_20.csv'\n",
    "#local_file = '/path/to/my/local/file.txt'\n",
    "\n",
    "# To upload a file to S3\n",
    "#s3.upload_file(local_file, s3_key)\n",
    "\n",
    "# To download a file from S3\n",
    "#s3.download_file(s3_key, local_file)\n",
    "\n",
    "# To check if a file exists in S3\n",
    "#exists = s3.key_exists(s3_key)"
   ]
  },
  {
   "cell_type": "markdown",
   "metadata": {},
   "source": [
    "### trying from before\n",
    "# bucket_name = \"davidak\"\n",
    "# object_key = \"ED_Dispo/Shared_data/rads_within_visit_2023_07_20.csv\"\n",
    "\n",
    "\n",
    "# session = boto3.session.Session(profile_name=\"dispo\")\n",
    "# s3 = session.resource(\"s3\")\n",
    "# s3_client = boto3.client(\"s3\", region_name=\"us-east-1\")"
   ]
  },
  {
   "cell_type": "code",
   "execution_count": null,
   "metadata": {},
   "outputs": [],
   "source": [
    "# s3_object = s3_client.get_object(Bucket=bucket_name, Key=object_key)\n",
    "# content = s3_object[\"Body\"].read().decode(\"utf-8\")"
   ]
  },
  {
   "cell_type": "code",
   "execution_count": null,
   "metadata": {},
   "outputs": [],
   "source": []
  },
  {
   "cell_type": "code",
   "execution_count": null,
   "metadata": {},
   "outputs": [],
   "source": []
  }
 ],
 "metadata": {
  "kernelspec": {
   "display_name": "base",
   "language": "python",
   "name": "python3"
  },
  "language_info": {
   "codemirror_mode": {
    "name": "ipython",
    "version": 3
   },
   "file_extension": ".py",
   "mimetype": "text/x-python",
   "name": "python",
   "nbconvert_exporter": "python",
   "pygments_lexer": "ipython3",
   "version": "3.10.11"
  },
  "orig_nbformat": 4
 },
 "nbformat": 4,
 "nbformat_minor": 2
}
